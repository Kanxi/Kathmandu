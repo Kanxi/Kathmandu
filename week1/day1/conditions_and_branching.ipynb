{
 "cells": [
  {
   "cell_type": "markdown",
   "metadata": {
    "id": "MvglpuaaLqhj"
   },
   "source": [
    "## Conditions and Branching.\n",
    "- `if`, `elif`, `else` keywords are used to accomplish conditions and branching in python.\n",
    "\n",
    "  ```\n",
    "  if case1:\n",
    "      perform action1\n",
    "    \n",
    "  elif case2:\n",
    "      perform action2\n",
    "\n",
    "  else:\n",
    "      perform action3\n",
    "  ```\n",
    "\n",
    "- Different comparison operators shown below, can be used with if statements.\n",
    "  - `Equals: a == b`\n",
    "  - `Not Equals: a != b`\n",
    "  - `Less than: a < b`\n",
    "  - `Less than or equal to: a <= b`\n",
    "  - `Greater than: a > b`\n",
    "  - `Greater than or equal to: a >= b`\n",
    "\n",
    "  ```\n",
    "  if a > b:\n",
    "      print(\"a is greater than b\")\n",
    "\n",
    "  elif a == b:\n",
    "      print(\"a is equal to b\")\n",
    "\n",
    "  else:\n",
    "      print(\"a is less than b\")\n",
    "  ```\n",
    "\n",
    "- In this lecture we'll cover:\n",
    "  - if statement: How program enters if block.\n",
    "  - Simple if else statements.\n",
    "  - Nested if else statements.\n",
    "  - Short Hand if....else statements / Ternary Operators\n",
    "  - pass keyword"
   ]
  },
  {
   "cell_type": "markdown",
   "metadata": {
    "id": "I6S9Qqz8QS4v"
   },
   "source": [
    "##1. if statement: How python program enters if blocks?\n",
    "\n",
    "`Hint: when if conditions is True`\n",
    "\n",
    "```\n",
    "if True:\n",
    "  print(\"if block goes here\")\n",
    "\n",
    "if False:\n",
    ";\n",
    "  print(\"if block goes here\")\n",
    "```"
   ]
  },
  {
   "cell_type": "code",
   "execution_count": null,
   "metadata": {
    "id": "ezC-IIvtKzzI"
   },
   "outputs": [
    {
     "name": "stdout",
     "output_type": "stream",
     "text": [
      "if block goes here\n"
     ]
    }
   ],
   "source": [
    "# explain here\n",
    "\n",
    "if True:\n",
    "  print(\"if block goes here\")\n",
    "\n",
    "\n",
    "if False:\n",
    "  print(\"If block goes here\")"
   ]
  },
  {
   "cell_type": "markdown",
   "metadata": {
    "id": "9WXagrx5QyYk"
   },
   "source": [
    "- Python relies on Indentation (whitespace at the beginning of a line)\n",
    "  - Other programming languages often use curly-brackets for this purpose."
   ]
  },
  {
   "cell_type": "markdown",
   "metadata": {
    "id": "2idqIUn0RC5t"
   },
   "source": [
    "`Q.Try if statement without Indentation.`"
   ]
  },
  {
   "cell_type": "code",
   "execution_count": null,
   "metadata": {
    "id": "TmMELBr8RCXv"
   },
   "outputs": [
    {
     "ename": "IndentationError",
     "evalue": "expected an indented block after 'if' statement on line 2 (833065042.py, line 3)",
     "output_type": "error",
     "traceback": [
      "\u001b[0;36m  Cell \u001b[0;32mIn[2], line 3\u001b[0;36m\u001b[0m\n\u001b[0;31m    print(\"if block statement\")\u001b[0m\n\u001b[0m    ^\u001b[0m\n\u001b[0;31mIndentationError\u001b[0m\u001b[0;31m:\u001b[0m expected an indented block after 'if' statement on line 2\n"
     ]
    }
   ],
   "source": [
    "# write your program here.\n",
    "if True:\n",
    "print(\"if block statement\")"
   ]
  },
  {
   "cell_type": "markdown",
   "metadata": {
    "id": "FRm1t1k7Ru6D"
   },
   "source": [
    "_`if statement, without indentation (will raise an error)`_\n",
    "\n",
    "\n",
    "\n"
   ]
  },
  {
   "cell_type": "markdown",
   "metadata": {
    "id": "4XRlodbLU1bU"
   },
   "source": [
    "##2. Simple if else statements\n",
    "- Generally, if statement has an optional elif, else clause.\n",
    "- **syntax 1**\n",
    "\n",
    "  ```\n",
    "  if condition:\n",
    "      # block of code if condition is True\n",
    "  \n",
    "  else:\n",
    "      # block of code if condition is False\n",
    "  ```\n",
    "\n",
    "- **syntax 2**\n",
    "\n",
    "  ```\n",
    "  if condition1:\n",
    "      # code block 1\n",
    "  \n",
    "  elif condition2:\n",
    "      # code block 2\n",
    "\n",
    "  else:\n",
    "      # code block 3\n",
    "  ```\n",
    "\n",
    "\n",
    " **Q1. Input number from user. print \"postive number\" if number is positive else print \"negative number. Consider 0 as positive as well.\"**\n",
    "\n"
   ]
  },
  {
   "cell_type": "code",
   "execution_count": 2,
   "metadata": {
    "id": "_M417gwzRKmf"
   },
   "outputs": [
    {
     "name": "stdout",
     "output_type": "stream",
     "text": [
      "Number is negative\n"
     ]
    }
   ],
   "source": [
    " ## write your program here\n",
    "check= int(input(\"Enter a number: \"))\n",
    "if(check>=0):\n",
    "    print(\"Number is positive\")\n",
    "else:\n",
    "    print(\"Number is negative\")"
   ]
  },
  {
   "cell_type": "markdown",
   "metadata": {
    "id": "vX4GOQeDXtDv"
   },
   "source": [
    "**Q2. Input two numbers num1, and num2 from user,**\n",
    "  - _**if num1 > num2: print \"num1 > num2\"**_\n",
    "  - _**if num1 == num2: print \"num1 = num2\"**_\n",
    "  - _**if num1 < num2: print \"num1 < num2\"**_"
   ]
  },
  {
   "cell_type": "code",
   "execution_count": 3,
   "metadata": {
    "id": "3N7MZiOpXsG2"
   },
   "outputs": [
    {
     "name": "stdout",
     "output_type": "stream",
     "text": [
      "num1 < num2\n"
     ]
    }
   ],
   "source": [
    "## write your program here\n",
    "num1=int(input(\"NUM1: \"))\n",
    "num2=int(input(\"NuM2: \"))\n",
    "if num1 > num2:\n",
    "    print (\"num1 > num2\")\n",
    "if num1 == num2:\n",
    "    print (\"num1 = num2\")\n",
    "if num1 < num2:\n",
    "    print (\"num1 < num2\")\n",
    "\n"
   ]
  },
  {
   "cell_type": "markdown",
   "metadata": {
    "id": "CZLxsunEYuDY"
   },
   "source": [
    "##3. Nested if else statements.\n",
    "- if or else statements inside if or else statements.\n",
    "\n",
    "- **Syntax:**\n",
    "  ```\n",
    "  if condition1:\n",
    "    if condition:\n",
    "      # code block\n",
    "    else:\n",
    "      # code block\n",
    "\n",
    "  elif condition2:\n",
    "    if condition:\n",
    "      # code block\n",
    "    else:\n",
    "      # code block\n",
    "  \n",
    "  :::::::::::::::::\n",
    "  :::::::::::::::::\n",
    "\n",
    "  else:\n",
    "    if condition:\n",
    "      # code block\n",
    "\n",
    "    elif condition:\n",
    "      # code block\n",
    "    else:\n",
    "      # code block\n",
    "  ```"
   ]
  },
  {
   "cell_type": "markdown",
   "metadata": {
    "id": "k1-Yny8Yeezg"
   },
   "source": [
    "**Q. Write a python program to find max of three numbers.**\n",
    "\n",
    "```\n",
    "Given three numbers num1, num2, num3\n",
    "\n",
    "if num1 > num2:\n",
    "  if num1 > num3:\n",
    "    print(f\"max number: {num1}\")\n",
    "  else:\n",
    "    print(f\"max number: {num3}\")\n",
    "\n",
    "\n",
    "else:\n",
    "  if num2 > num3:\n",
    "    print(f\"max number: {num2}\")\n",
    "  else:\n",
    "    print(f\"max number: {num3}\")\n",
    "```\n",
    "\n",
    "\n",
    "\n"
   ]
  },
  {
   "cell_type": "code",
   "execution_count": 4,
   "metadata": {
    "id": "2Kr8jw0GYizG"
   },
   "outputs": [
    {
     "name": "stdout",
     "output_type": "stream",
     "text": [
      "max number: 6\n"
     ]
    }
   ],
   "source": [
    "## write your program here\n",
    "num1=int(input(\"NUM1: \"))\n",
    "num2=int(input(\"NuM2: \"))\n",
    "num3=int(input(\"NuM3: \"))\n",
    "\n",
    "if num1> num2:\n",
    "    if num1> num3:\n",
    "        print(f\"max number: {num1}\")\n",
    "    else:\n",
    "        print(f\"max number: {num3}\")\n",
    "else:\n",
    "    if num2> num3:\n",
    "        print(f\"max number: {num2}\")\n",
    "    else:\n",
    "        print(f\"max number: {num3}\")"
   ]
  },
  {
   "cell_type": "markdown",
   "metadata": {
    "id": "xAEwKbyj2pTz"
   },
   "source": [
    "##4. Short Hand if...else statements / Ternary Operators\n",
    "- It is way of writing if else statement in a single line of code.\n",
    "- Also, called Ternary operators.\n",
    "- **Syntax (simple if else)**\n",
    "\n",
    "  `<if_block> if <condition>  else  <else_block> `\n",
    "\n",
    "\n",
    "- **Syntax (nested simple if else)**\n",
    "\n",
    "  `(<code_block> if <condition> else <code_block>)` **if**  < if_condition >\n",
    "   **else** `(<code_block> if <condition> else <code_block>)`\n",
    "\n",
    "\n",
    "\n",
    "   **Q1. Write a python program to print max of 2 numbers using ternary operator.**\n",
    "\n",
    "      ```\n",
    "      Input: a = 20, b = 30\n",
    "      Output: Max number is 30\n",
    "      ```\n"
   ]
  },
  {
   "cell_type": "code",
   "execution_count": 5,
   "metadata": {
    "id": "En4idN1K2mbm"
   },
   "outputs": [
    {
     "name": "stdout",
     "output_type": "stream",
     "text": [
      "Max number is 30\n"
     ]
    }
   ],
   "source": [
    "## write your Ternary program here\n",
    "a=20 \n",
    "b=30\n",
    "print(f\"Max number is {a}\") if a>b else print(f\"Max number is {b}\")\n"
   ]
  },
  {
   "cell_type": "markdown",
   "metadata": {
    "id": "HlaAYU6T6V1x"
   },
   "source": [
    "**Q2. Write a python program to print max of 3 numbers using ternary operator.**"
   ]
  },
  {
   "cell_type": "code",
   "execution_count": null,
   "metadata": {
    "id": "ky0kf5MB6eet"
   },
   "outputs": [],
   "source": [
    "## write your program here\n",
    "# max between three numbers\n"
   ]
  },
  {
   "cell_type": "markdown",
   "metadata": {
    "id": "RQrLzpAA6sh8"
   },
   "source": [
    "## 5. Pass Keyword\n",
    "- `pass` keyword acts as a placeholder for code to be added in if..else block.\n",
    "\n",
    "- **Use case**\n",
    "  - consider case, when you want to determine your python code structure in advance before adding actual code.\n",
    "\n",
    "- **Syntax:**\n",
    "\n",
    "  ```\n",
    "  if <condition>:\n",
    "    pass\n",
    "  else <condition>:\n",
    "    pass\n",
    "  ```"
   ]
  },
  {
   "cell_type": "code",
   "execution_count": 6,
   "metadata": {
    "id": "m_zFUnMs65_C"
   },
   "outputs": [],
   "source": [
    "## write your program using \"pass\" keyword\n",
    "if True:\n",
    "  pass\n",
    "\n",
    "else:\n",
    "  pass"
   ]
  },
  {
   "cell_type": "markdown",
   "metadata": {},
   "source": [
    "# Task 01: Grading System Exercise\n",
    "\n",
    "## Objective\n",
    "Create a simple grading system where a student's score is entered, and the program determines the corresponding grade.\n",
    "\n",
    "## Requirements\n",
    "\n",
    "1. Get the student's score as input.\n",
    "2. Use the following grading scale:\n",
    "   - 90-100: A\n",
    "   - 80-89: B\n",
    "   - 70-79: C\n",
    "   - 60-69: D\n",
    "   - Below 60: F\n",
    "3. Print the grade based on the input score.\n",
    "4. Handle cases where the entered score is not within the valid range (0-100)."
   ]
  },
  {
   "cell_type": "code",
   "execution_count": 7,
   "metadata": {},
   "outputs": [
    {
     "data": {
      "text/plain": [
       "'C'"
      ]
     },
     "execution_count": 7,
     "metadata": {},
     "output_type": "execute_result"
    }
   ],
   "source": [
    "marks=int(input(\"Enter the marks: \"))\n",
    "\n",
    "def grader(marks):\n",
    "    if marks<0 or marks>100:\n",
    "        print(\"Enter valid marks\")\n",
    "    else:\n",
    "        if marks<=100 and marks>=90:\n",
    "            return \"A\"\n",
    "        elif marks<90 and marks>=80:\n",
    "            return \"B\"\n",
    "        elif marks<80 and marks>=70:\n",
    "            return \"C\"\n",
    "        elif marks<70 and marks>=60:\n",
    "            return \"D\"\n",
    "        elif marks<60:\n",
    "            return 'F'\n",
    "grader(marks)"
   ]
  },
  {
   "cell_type": "markdown",
   "metadata": {},
   "source": [
    "# Task 02: Ticket Price Calculator Exercise\n",
    "\n",
    "## Objective\n",
    "Create a program that calculates the ticket price for a movie based on the age and whether the customer is a student.\n",
    "\n",
    "## Requirements\n",
    "\n",
    "1. Get the user's age and whether they are a student (True or False) as input.\n",
    "2. Define the ticket prices:\n",
    "   - Children (age 0-12): \\$10\n",
    "   - Teenagers (age 13-17): \\$15\n",
    "   - Adults (age 18 and above): $20\n",
    "   - Students (regardless of age): \\$18 (discounted price)\n",
    "3. Calculate and print the ticket price based on the user's age and student status.\n",
    "4. Handle cases where the entered age is not a valid numeric value.\n",
    "5. Provide a message for cases where the age is negative or non-integer."
   ]
  },
  {
   "cell_type": "code",
   "execution_count": 8,
   "metadata": {},
   "outputs": [
    {
     "data": {
      "text/plain": [
       "'$15'"
      ]
     },
     "execution_count": 8,
     "metadata": {},
     "output_type": "execute_result"
    }
   ],
   "source": [
    "age=int(input(\"Enter your age \"))\n",
    "student = input(\"Are you a student [Y/N]?\")\n",
    "if student.lower()=='y':\n",
    "    student =True\n",
    "elif student.lower()=='n':\n",
    "    student = False\n",
    "\n",
    "def ticket_price(age, student):\n",
    "    if(student):\n",
    "        return \"$18\"\n",
    "    else:\n",
    "        if(age>=0 and age<=12):\n",
    "            return \"$10\"\n",
    "        elif(age>12 and age<=17):\n",
    "            return \"$15\"\n",
    "        elif age>=18:\n",
    "            return \"$20\"\n",
    "ticket_price(age, student)"
   ]
  },
  {
   "cell_type": "markdown",
   "metadata": {},
   "source": [
    "# Task 03: Word Frequency Counter\n",
    "\n",
    "## Objective\n",
    "Create a program that analyzes a given text and counts the frequency of each unique word.\n",
    "\n",
    "## Requirements\n",
    "\n",
    "1. Ask the user to input a paragraph or sentence.\n",
    "2. Tokenize the input into words (ignoring punctuation and case sensitivity).\n",
    "3. Count the frequency of each unique word.\n",
    "4. Display the word frequencies in alphabetical order.\n",
    "5. Handle cases where the input is empty."
   ]
  },
  {
   "cell_type": "code",
   "execution_count": 12,
   "metadata": {},
   "outputs": [
    {
     "name": "stdout",
     "output_type": "stream",
     "text": [
      "are 1\n",
      "hello 2\n",
      "how 2\n",
      "today 1\n",
      "we 1\n"
     ]
    }
   ],
   "source": [
    "\n",
    "paragraph= input(\"Enter the paragraph \")\n",
    "\n",
    "paragraph=paragraph.lower()\n",
    "paragraph=paragraph.split()\n",
    "frequency_table=dict()\n",
    "def frequency(paragraph):\n",
    "    for item in paragraph:\n",
    "        if item in frequency_table.keys():\n",
    "            frequency_table[item]+=1\n",
    "        else:\n",
    "            frequency_table[item]=1\n",
    "    for i in sorted(frequency_table): \n",
    "        print(i, frequency_table[i])\n",
    "frequency(paragraph)"
   ]
  },
  {
   "cell_type": "markdown",
   "metadata": {},
   "source": [
    "# Task 04: Magic Square Validator\n",
    "\n",
    "## Objective\n",
    "Create a program that checks if a given 3x3 matrix forms a magic square.\n",
    "\n",
    "## Requirements\n",
    "\n",
    "1. A magic square is a square matrix where the sums of the numbers in each row, column, and both main diagonals are the same.\n",
    "2. Ask the user to input a 3x3 matrix (nine integer values).\n",
    "3. Check and print whether the given matrix forms a magic square.\n",
    "4. Handle cases where the input matrix is not of size 3x3 or contains non-integer values."
   ]
  },
  {
   "cell_type": "code",
   "execution_count": 22,
   "metadata": {},
   "outputs": [
    {
     "name": "stdout",
     "output_type": "stream",
     "text": [
      "[2, 7, 6]\n",
      "[[2, 7, 6], [9, 5, 1], [4, 3, 8]]\n",
      "15\n",
      "True\n"
     ]
    }
   ],
   "source": [
    "row1=input(\"Enter the first row\")\n",
    "row1=row1.split()\n",
    "row1 = [eval(i) for i in row1]\n",
    "print(row1)\n",
    "row2=input(\"Enter the second row\")\n",
    "row2=row2.split()\n",
    "row2 = [eval(i) for i in row2]\n",
    "row3=input(\"Enter the third row\")\n",
    "row3=row3.split()\n",
    "row3 = [eval(i) for i in row3]\n",
    "\n",
    "matrix=[row1, row2, row3]\n",
    "print(matrix)\n",
    "def is_Magic_Square(matrix):\n",
    "    x=matrix[0][0]+matrix[0][1]+matrix[0][2]\n",
    "    print(x)\n",
    "    if(matrix[1][0]+matrix[1][1]+matrix[1][2]==x) and (matrix[2][0]+matrix[2][1]+matrix[2][2]==x) and (matrix[0][0]+matrix[1][0]+matrix[2][0]==x) and(matrix[0][1]+matrix[1][1]+matrix[2][1]==x) and (matrix[0][2]+matrix[1][2]+matrix[2][2]==x) and (matrix[0][0]+matrix[1][1]+matrix[2][2]==x) and (matrix[2][0]+matrix[1][1]+matrix[0][2]==x):\n",
    "        return True\n",
    "    else:\n",
    "        return False\n",
    "print(is_Magic_Square(matrix))"
   ]
  },
  {
   "cell_type": "markdown",
   "metadata": {},
   "source": [
    "# Task 05: Palindromic Anagram Checker\n",
    "\n",
    "## Objective\n",
    "Create a program that checks if a given string can be rearranged to form a palindromic string.\n",
    "\n",
    "## Requirements\n",
    "\n",
    "1. A palindrome is a word, phrase, number, or other sequences of characters that reads the same forward and backward.\n",
    "2. Ask the user to input a string.\n",
    "3. Check and print whether the given string can be rearranged to form a palindrome.\n",
    "4. Ignore spaces and consider the characters in a case-insensitive manner.\n",
    "5. Handle cases where the input is empty or contains non-alphabetic characters."
   ]
  },
  {
   "cell_type": "code",
   "execution_count": 28,
   "metadata": {},
   "outputs": [
    {
     "data": {
      "text/plain": [
       "'Palindrome is possible.'"
      ]
     },
     "execution_count": 28,
     "metadata": {},
     "output_type": "execute_result"
    }
   ],
   "source": [
    "text=(input(\"Enter the text: \"))\n",
    "text = ''.join(list(map(lambda x: x.strip(), text.split())))\n",
    "text=list(text)\n",
    "\n",
    "frequency_table=dict()\n",
    "def palindrome_checker(paragraph):\n",
    "    odd_count=0\n",
    "    for item in paragraph:\n",
    "        if item in frequency_table.keys():\n",
    "            frequency_table[item]+=1\n",
    "        else:\n",
    "            frequency_table[item]=1\n",
    "    for value in frequency_table.values():\n",
    "        if value%2!=0:\n",
    "            odd_count=odd_count+1\n",
    "            if(odd_count>1):\n",
    "                return \"Palindrome not possible.\"\n",
    "    return \"Palindrome is possible.\"\n",
    "palindrome_checker(text)\n"
   ]
  },
  {
   "cell_type": "markdown",
   "metadata": {
    "id": "j5rQsUXT8hn7"
   },
   "source": [
    "\n",
    "<hr>\n",
    "<h2>Congratulations, you have completed your hands-on lab in Python Conditions and Branching.\n",
    "<hr>\n"
   ]
  }
 ],
 "metadata": {
  "colab": {
   "provenance": []
  },
  "kernelspec": {
   "display_name": "Python 3 (ipykernel)",
   "language": "python",
   "name": "python3"
  },
  "language_info": {
   "codemirror_mode": {
    "name": "ipython",
    "version": 3
   },
   "file_extension": ".py",
   "mimetype": "text/x-python",
   "name": "python",
   "nbconvert_exporter": "python",
   "pygments_lexer": "ipython3",
   "version": "3.11.2"
  }
 },
 "nbformat": 4,
 "nbformat_minor": 4
}
